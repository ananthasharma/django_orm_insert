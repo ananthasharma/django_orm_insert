{
 "cells": [
  {
   "cell_type": "markdown",
   "metadata": {},
   "source": [
    "# Scripts to invoke/show and test how the system can be used "
   ]
  },
  {
   "cell_type": "code",
   "execution_count": null,
   "metadata": {},
   "outputs": [],
   "source": []
  },
  {
   "cell_type": "code",
   "execution_count": 42,
   "metadata": {},
   "outputs": [],
   "source": [
    "# allows for 3 files and 1 gorup name to be sent\n",
    "# the codebase statically sets file_path"
   ]
  },
  {
   "cell_type": "code",
   "execution_count": 43,
   "metadata": {},
   "outputs": [],
   "source": [
    "import sqlite3\n",
    "\n",
    "def check_db():\n",
    "    conn=sqlite3.connect('db.sqlite3')\n",
    "    query=\"SELECT * FROM IO_GROUP_DATA_ASSOC igda inner join IO_DATA_REGISTRY ida on ida.IO_DATA_ID = igda.IO_DATA_ID inner join IO_GROUP_REGISTRY igr on igr.IO_GROUP_ID=igda.IO_GROUP_ID\"\n",
    "    \n",
    "    for row in conn.execute(query):\n",
    "        print (row)\n",
    "    conn.close()"
   ]
  },
  {
   "cell_type": "code",
   "execution_count": 44,
   "metadata": {},
   "outputs": [],
   "source": [
    "check_db()"
   ]
  },
  {
   "cell_type": "code",
   "execution_count": 45,
   "metadata": {},
   "outputs": [
    {
     "name": "stdout",
     "output_type": "stream",
     "text": [
      "{\"message\":\"inserted Group name as input_group with 3 files\"}"
     ]
    }
   ],
   "source": [
    "!curl \"http://localhost:8000/orm-insert/?file1=1.parquet&file2=2.parquet&file3=3.parquet&group_name=input_group\""
   ]
  },
  {
   "cell_type": "code",
   "execution_count": 46,
   "metadata": {},
   "outputs": [
    {
     "name": "stdout",
     "output_type": "stream",
     "text": [
      "(163, 163, 23, 163, '1.parquet', 'maprfs:///some/predefined/file/location', 23, 'input_group')\n",
      "(164, 164, 23, 164, '2.parquet', 'maprfs:///some/predefined/file/location', 23, 'input_group')\n",
      "(165, 165, 23, 165, '3.parquet', 'maprfs:///some/predefined/file/location', 23, 'input_group')\n"
     ]
    }
   ],
   "source": [
    "check_db()"
   ]
  },
  {
   "cell_type": "code",
   "execution_count": null,
   "metadata": {},
   "outputs": [],
   "source": []
  }
 ],
 "metadata": {
  "kernelspec": {
   "display_name": "Python 3",
   "language": "python",
   "name": "python3"
  },
  "language_info": {
   "codemirror_mode": {
    "name": "ipython",
    "version": 3
   },
   "file_extension": ".py",
   "mimetype": "text/x-python",
   "name": "python",
   "nbconvert_exporter": "python",
   "pygments_lexer": "ipython3",
   "version": "3.7.4"
  }
 },
 "nbformat": 4,
 "nbformat_minor": 2
}
